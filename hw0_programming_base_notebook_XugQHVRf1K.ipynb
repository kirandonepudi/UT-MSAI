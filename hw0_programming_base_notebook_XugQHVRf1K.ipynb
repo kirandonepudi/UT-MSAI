{
  "cells": [
    {
      "cell_type": "markdown",
      "metadata": {
        "id": "view-in-github",
        "colab_type": "text"
      },
      "source": [
        "<a href=\"https://colab.research.google.com/github/kirandonepudi/UT-MSAI/blob/main/hw0_programming_base_notebook_XugQHVRf1K.ipynb\" target=\"_parent\"><img src=\"https://colab.research.google.com/assets/colab-badge.svg\" alt=\"Open In Colab\"/></a>"
      ]
    },
    {
      "cell_type": "code",
      "execution_count": null,
      "metadata": {
        "id": "_mH0rAuvUju8"
      },
      "outputs": [],
      "source": [
        "# Import libraries:\n",
        "import numpy as np # Numerical Python is used for calculations for heavy mathematical computations.\n",
        "import pandas as pd # Pandas is a Library to deal with dataframes(tables) to import and export data.\n",
        "import seaborn as sns  # seaborn is used for fancy customized visualizations, it is part of Matplot lib.\n",
        "import matplotlib.pyplot as plt  # Matpltlib is used visualization\n",
        "from sklearn import datasets # Sckit learn is a package which contains many ML algorithms packaged together. It also offer many sample datasets out of the box which you are readily available."
      ]
    },
    {
      "cell_type": "code",
      "execution_count": null,
      "metadata": {
        "id": "fxzWh2YoU8Un"
      },
      "outputs": [],
      "source": [
        "# enter your code here"
      ]
    }
  ],
  "metadata": {
    "colab": {
      "provenance": [],
      "include_colab_link": true
    },
    "kernelspec": {
      "display_name": "Python 3",
      "language": "python",
      "name": "python3"
    },
    "language_info": {
      "codemirror_mode": {
        "name": "ipython",
        "version": 3
      },
      "file_extension": ".py",
      "mimetype": "text/x-python",
      "name": "python",
      "nbconvert_exporter": "python",
      "pygments_lexer": "ipython3",
      "version": "3.8.10"
    }
  },
  "nbformat": 4,
  "nbformat_minor": 0
}